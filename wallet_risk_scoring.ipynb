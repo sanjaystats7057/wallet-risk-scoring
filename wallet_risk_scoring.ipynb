{
  "nbformat": 4,
  "nbformat_minor": 0,
  "metadata": {
    "colab": {
      "provenance": []
    },
    "kernelspec": {
      "name": "python3",
      "display_name": "Python 3"
    },
    "language_info": {
      "name": "python"
    }
  },
  "cells": [
    {
      "cell_type": "code",
      "execution_count": 2,
      "metadata": {
        "id": "2ATKWM0WnpnV"
      },
      "outputs": [],
      "source": [
        "import pandas as pd\n",
        "import numpy as np\n",
        "import requests\n",
        "import time\n"
      ]
    },
    {
      "cell_type": "code",
      "source": [],
      "metadata": {
        "id": "G_xnmAc7nq5-"
      },
      "execution_count": 2,
      "outputs": []
    },
    {
      "cell_type": "markdown",
      "source": [],
      "metadata": {
        "id": "rtNpN8XZnyKO"
      }
    },
    {
      "cell_type": "code",
      "source": [],
      "metadata": {
        "id": "pfvtnJJenqy2"
      },
      "execution_count": 2,
      "outputs": []
    },
    {
      "cell_type": "code",
      "source": [
        "pip install requests pandas tqdm\n"
      ],
      "metadata": {
        "colab": {
          "base_uri": "https://localhost:8080/"
        },
        "id": "9ctQkwvUnqlj",
        "outputId": "719b11db-5cdd-4bf1-8d4d-d002a4ae5a9f"
      },
      "execution_count": 3,
      "outputs": [
        {
          "output_type": "stream",
          "name": "stdout",
          "text": [
            "Requirement already satisfied: requests in /usr/local/lib/python3.11/dist-packages (2.32.3)\n",
            "Requirement already satisfied: pandas in /usr/local/lib/python3.11/dist-packages (2.2.2)\n",
            "Requirement already satisfied: tqdm in /usr/local/lib/python3.11/dist-packages (4.67.1)\n",
            "Requirement already satisfied: charset-normalizer<4,>=2 in /usr/local/lib/python3.11/dist-packages (from requests) (3.4.2)\n",
            "Requirement already satisfied: idna<4,>=2.5 in /usr/local/lib/python3.11/dist-packages (from requests) (3.10)\n",
            "Requirement already satisfied: urllib3<3,>=1.21.1 in /usr/local/lib/python3.11/dist-packages (from requests) (2.5.0)\n",
            "Requirement already satisfied: certifi>=2017.4.17 in /usr/local/lib/python3.11/dist-packages (from requests) (2025.7.14)\n",
            "Requirement already satisfied: numpy>=1.23.2 in /usr/local/lib/python3.11/dist-packages (from pandas) (2.0.2)\n",
            "Requirement already satisfied: python-dateutil>=2.8.2 in /usr/local/lib/python3.11/dist-packages (from pandas) (2.9.0.post0)\n",
            "Requirement already satisfied: pytz>=2020.1 in /usr/local/lib/python3.11/dist-packages (from pandas) (2025.2)\n",
            "Requirement already satisfied: tzdata>=2022.7 in /usr/local/lib/python3.11/dist-packages (from pandas) (2025.2)\n",
            "Requirement already satisfied: six>=1.5 in /usr/local/lib/python3.11/dist-packages (from python-dateutil>=2.8.2->pandas) (1.17.0)\n"
          ]
        }
      ]
    },
    {
      "cell_type": "code",
      "source": [
        "import pandas as pd\n",
        "\n",
        "df = pd.read_csv(\"/content/Wallet id - Sheet1.csv\")\n",
        "wallets = df['wallet_id'].tolist()[:100]  # top 100 wallet\n"
      ],
      "metadata": {
        "id": "phxSXiBuvkY3"
      },
      "execution_count": 4,
      "outputs": []
    },
    {
      "cell_type": "code",
      "source": [
        "import requests\n",
        "import time\n",
        "\n",
        "API_KEY = \"cqt_rQFKCgT6KYtJvrTh7HYxcDcpfyxb\"  # Replace with your Covalent API Key\n",
        "CHAIN_ID = 1  # Ethereum mainnet\n",
        "\n",
        "all_data = {}\n",
        "\n",
        "for wallet in wallets:\n",
        "    url = f\"https://api.covalenthq.com/v1/{CHAIN_ID}/address/{wallet}/transactions_v3/?key={API_KEY}\"\n",
        "    response = requests.get(url)\n",
        "\n",
        "    if response.status_code == 200:\n",
        "        all_data[wallet] = response.json()\n",
        "    else:\n",
        "        print(f\"❌ Error for {wallet}: {response.status_code}\")\n",
        "\n",
        "    time.sleep(1.5)  # Respect API rate limits\n"
      ],
      "metadata": {
        "id": "dQWbzPz5x0ni"
      },
      "execution_count": 5,
      "outputs": []
    },
    {
      "cell_type": "markdown",
      "source": [
        "Loop Through Wallets and Fetch Data:"
      ],
      "metadata": {
        "id": "KIWHdnD-41yH"
      }
    },
    {
      "cell_type": "code",
      "source": [
        "import requests\n",
        "import time\n",
        "\n",
        "api_key = \"cqt_rQFKCgT6KYtJvrTh7HYxcDcpfyxb\"  # ← apna Covalent API key yahan daalo\n",
        "base_url = \"https://api.covalenthq.com/v1/eth-mainnet/address\"\n",
        "\n",
        "# Store data for all wallets\n",
        "all_wallet_data = []\n",
        "\n",
        "for wallet in wallets:\n",
        "    url = f\"{base_url}/{wallet}/transactions_v3/?key={api_key}\"\n",
        "\n",
        "    try:\n",
        "        response = requests.get(url)\n",
        "        if response.status_code == 200:\n",
        "            data = response.json()\n",
        "            transactions = data['data']['items']\n",
        "\n",
        "            for tx in transactions:\n",
        "                all_wallet_data.append({\n",
        "                    'wallet_id': wallet,\n",
        "                    'tx_hash': tx['tx_hash'],\n",
        "                    'from_address': tx['from_address'],\n",
        "                    'to_address': tx['to_address'],\n",
        "                    'value': tx['value'],\n",
        "                    'gas_spent': tx['gas_spent'],\n",
        "                    'gas_price': tx['gas_price'],\n",
        "                    'fees_paid': tx['fees_paid'],\n",
        "                    'successful': tx['successful'],\n",
        "                    'block_signed_at': tx['block_signed_at']\n",
        "                })\n",
        "        else:\n",
        "            print(f\"Error {response.status_code} for wallet {wallet}\")\n",
        "\n",
        "        # 🔁 Respect API rate limit (Covalent free tier is ~4/sec)\n",
        "        time.sleep(0.3)\n",
        "\n",
        "    except Exception as e:\n",
        "        print(f\"Error for wallet {wallet}: {str(e)}\")\n"
      ],
      "metadata": {
        "id": "Gf60GnVk41C_"
      },
      "execution_count": 6,
      "outputs": []
    },
    {
      "cell_type": "markdown",
      "source": [
        "Convert to DataFrame (After Loop)"
      ],
      "metadata": {
        "id": "k5XuiFxy52Tj"
      }
    },
    {
      "cell_type": "code",
      "source": [
        "import pandas as pd\n",
        "\n",
        "tx_df = pd.DataFrame(all_wallet_data)\n",
        "print(tx_df.head())\n"
      ],
      "metadata": {
        "colab": {
          "base_uri": "https://localhost:8080/"
        },
        "id": "1UHNnC5l0oaN",
        "outputId": "baad6197-f815-40b2-b46a-cf5779a37395"
      },
      "execution_count": 7,
      "outputs": [
        {
          "output_type": "stream",
          "name": "stdout",
          "text": [
            "                                    wallet_id  \\\n",
            "0  0x0039f22efb07a647557c7c5d17854cfd6d489ef3   \n",
            "1  0x0039f22efb07a647557c7c5d17854cfd6d489ef3   \n",
            "2  0x0039f22efb07a647557c7c5d17854cfd6d489ef3   \n",
            "3  0x0039f22efb07a647557c7c5d17854cfd6d489ef3   \n",
            "4  0x06b51c6882b27cb05e712185531c1f74996dd988   \n",
            "\n",
            "                                             tx_hash  \\\n",
            "0  0x98703fb4a7c6804d82e98f009ecc0e089abd53de9469...   \n",
            "1  0x0b8e89905717b9babd69aa7db6af0afb83331e9b8041...   \n",
            "2  0x5745f6d2e9397ed8ceb7120f42761e1f04643e132e94...   \n",
            "3  0x35cd404392ac9b7786bee78e4bfb2773cbb576b9c3dc...   \n",
            "4  0x2ef861c6dee8c0e5b9a6a621d5b7b2a92cf841cd2c23...   \n",
            "\n",
            "                                 from_address  \\\n",
            "0  0xc6b602de080fc9ac9d96a431b2d749d38e77cbbc   \n",
            "1  0xfd0ce77ca6521e3cbbcfb07398cca8ec2648115d   \n",
            "2  0xc07aff7c831105bacaf2fb4d9506332112eee2a1   \n",
            "3  0xad38352c725c6768c11a9a71bc7d921a9355d56c   \n",
            "4  0x06b51c6882b27cb05e712185531c1f74996dd988   \n",
            "\n",
            "                                   to_address             value  gas_spent  \\\n",
            "0  0x13173761e24c3708495b1dd314920f67f97011d0                 0      55815   \n",
            "1                                        None                 0    5264347   \n",
            "2                                        None                 0    5226097   \n",
            "3                                        None                 0    5213387   \n",
            "4  0x993035f1abf433ef36c39e3a5a260174a6919c31  5701850000000000      21000   \n",
            "\n",
            "     gas_price         fees_paid  successful       block_signed_at  \n",
            "0   4200000000   234423000000000        True  2025-06-16T21:15:11Z  \n",
            "1    500000000  2632173500000000        True  2025-04-27T21:09:35Z  \n",
            "2    700000000  3658267900000000        True  2025-03-24T23:27:47Z  \n",
            "3    950000000  4952717650000000        True  2025-02-23T19:08:59Z  \n",
            "4  80000000000  1680000000000000        True  2020-10-16T00:19:32Z  \n"
          ]
        }
      ]
    },
    {
      "cell_type": "code",
      "source": [
        "# Convert to numeric (ETH units ya Wei units me)\n",
        "tx_df['value'] = pd.to_numeric(tx_df['value'], errors='coerce')\n",
        "tx_df['fees_paid'] = pd.to_numeric(tx_df['fees_paid'], errors='coerce')\n",
        "tx_df['gas_price'] = pd.to_numeric(tx_df['gas_price'], errors='coerce')\n"
      ],
      "metadata": {
        "id": "KMR6AzNd7LFg"
      },
      "execution_count": 8,
      "outputs": []
    },
    {
      "cell_type": "markdown",
      "source": [
        "Data Cleaning"
      ],
      "metadata": {
        "id": "sIBBEX9d8f8B"
      }
    },
    {
      "cell_type": "code",
      "source": [
        "df.isnull().sum()\n"
      ],
      "metadata": {
        "colab": {
          "base_uri": "https://localhost:8080/",
          "height": 115
        },
        "id": "xRhhUAvq0oU0",
        "outputId": "f8103551-d5b6-43b6-c50c-6220341c5fe2"
      },
      "execution_count": 9,
      "outputs": [
        {
          "output_type": "execute_result",
          "data": {
            "text/plain": [
              "wallet_id    0\n",
              "dtype: int64"
            ],
            "text/html": [
              "<div>\n",
              "<style scoped>\n",
              "    .dataframe tbody tr th:only-of-type {\n",
              "        vertical-align: middle;\n",
              "    }\n",
              "\n",
              "    .dataframe tbody tr th {\n",
              "        vertical-align: top;\n",
              "    }\n",
              "\n",
              "    .dataframe thead th {\n",
              "        text-align: right;\n",
              "    }\n",
              "</style>\n",
              "<table border=\"1\" class=\"dataframe\">\n",
              "  <thead>\n",
              "    <tr style=\"text-align: right;\">\n",
              "      <th></th>\n",
              "      <th>0</th>\n",
              "    </tr>\n",
              "  </thead>\n",
              "  <tbody>\n",
              "    <tr>\n",
              "      <th>wallet_id</th>\n",
              "      <td>0</td>\n",
              "    </tr>\n",
              "  </tbody>\n",
              "</table>\n",
              "</div><br><label><b>dtype:</b> int64</label>"
            ]
          },
          "metadata": {},
          "execution_count": 9
        }
      ]
    },
    {
      "cell_type": "code",
      "source": [
        "# Ye dekho: tumhara cleaned transaction data kis variable me store hai?\n",
        "# Shayad tumne `df`, `tx_df`, `transactions_df`, etc. naam diya ho.\n",
        "\n",
        "# Run karo sab variables ka list:\n",
        "%whos DataFrame\n"
      ],
      "metadata": {
        "colab": {
          "base_uri": "https://localhost:8080/"
        },
        "id": "IvXjfyjH0oMv",
        "outputId": "dd62cf4f-9237-45c7-bcab-147c5982393e"
      },
      "execution_count": 10,
      "outputs": [
        {
          "output_type": "stream",
          "name": "stdout",
          "text": [
            "Variable   Type         Data/Info\n",
            "---------------------------------\n",
            "df         DataFrame                             <...>n\\n[103 rows x 1 columns]\n",
            "tx_df      DataFrame                             <...>n[1747 rows x 10 columns]\n"
          ]
        }
      ]
    },
    {
      "cell_type": "code",
      "source": [
        "# Check for null values\n",
        "print(tx_df.isnull().sum())\n",
        "\n",
        "# Remove duplicate rows if any\n",
        "tx_df = tx_df.drop_duplicates()\n",
        "\n",
        "# Convert 'block_signed_at' to datetime\n",
        "tx_df['block_signed_at'] = pd.to_datetime(tx_df['block_signed_at'])\n",
        "\n",
        "# Fill missing values in 'to_address' with 'Unknown'\n",
        "tx_df['to_address'] = tx_df['to_address'].fillna('Unknown')\n"
      ],
      "metadata": {
        "colab": {
          "base_uri": "https://localhost:8080/"
        },
        "id": "IVmrw4ho0oKt",
        "outputId": "3b87bafa-64b3-447a-f954-deeec8721c00"
      },
      "execution_count": 11,
      "outputs": [
        {
          "output_type": "stream",
          "name": "stdout",
          "text": [
            "wallet_id           0\n",
            "tx_hash             0\n",
            "from_address        0\n",
            "to_address         31\n",
            "value               0\n",
            "gas_spent           0\n",
            "gas_price           0\n",
            "fees_paid           0\n",
            "successful          0\n",
            "block_signed_at     0\n",
            "dtype: int64\n"
          ]
        }
      ]
    },
    {
      "cell_type": "markdown",
      "source": [
        "Fill missing with 'Unknown'"
      ],
      "metadata": {
        "id": "Tt5tkdxE_DuF"
      }
    },
    {
      "cell_type": "code",
      "source": [
        "tx_df['to_address'] = tx_df['to_address'].fillna('Unknown')\n"
      ],
      "metadata": {
        "id": "Jcu4h0_c0oG1"
      },
      "execution_count": 12,
      "outputs": []
    },
    {
      "cell_type": "markdown",
      "source": [
        "Feature Engineering:"
      ],
      "metadata": {
        "id": "Ypoqq1fKA0kk"
      }
    },
    {
      "cell_type": "code",
      "source": [
        "# Convert to datetime\n",
        "tx_df['block_signed_at'] = pd.to_datetime(tx_df['block_signed_at'])\n",
        "\n",
        "# Group and engineer features\n",
        "features_df = tx_df.groupby('wallet_id').agg(\n",
        "    num_txns=('tx_hash', 'count'),\n",
        "    num_successful_txns=('successful', lambda x: x.sum()),\n",
        "    num_failed_txns=('successful', lambda x: (~x).sum()),\n",
        "    avg_tx_value=('value', 'mean'),\n",
        "    total_value_sent=('value', 'sum'),\n",
        "    total_fees_paid=('fees_paid', 'sum'),\n",
        "    total_gas_spent=('gas_spent', 'sum'),\n",
        "    avg_gas_price=('gas_price', 'mean'),\n",
        "    num_unique_to_addresses=('to_address', pd.Series.nunique),\n",
        "    active_days=('block_signed_at', lambda x: x.dt.date.nunique()),\n",
        "    first_tx=('block_signed_at', 'min'),\n",
        "    last_tx=('block_signed_at', 'max')\n",
        ")\n",
        "\n",
        "# Duration feature\n",
        "features_df['activity_duration_days'] = (features_df['last_tx'] - features_df['first_tx']).dt.days\n",
        "features_df.drop(['first_tx', 'last_tx'], axis=1, inplace=True)\n",
        "\n",
        "# Reset index\n",
        "features_df = features_df.reset_index()\n"
      ],
      "metadata": {
        "id": "7F6Lg54I0oAQ"
      },
      "execution_count": 13,
      "outputs": []
    },
    {
      "cell_type": "code",
      "source": [
        "features_df.head()"
      ],
      "metadata": {
        "colab": {
          "base_uri": "https://localhost:8080/",
          "height": 226
        },
        "id": "G-ZmG7i50n9w",
        "outputId": "ed177869-de46-45a7-9f6a-eaa80c50b6a9"
      },
      "execution_count": 14,
      "outputs": [
        {
          "output_type": "execute_result",
          "data": {
            "text/plain": [
              "                                    wallet_id  num_txns  num_successful_txns  \\\n",
              "0  0x0039f22efb07a647557c7c5d17854cfd6d489ef3         4                    4   \n",
              "1  0x06b51c6882b27cb05e712185531c1f74996dd988         5                    5   \n",
              "2  0x0795732aacc448030ef374374eaae57d2965c16c         4                    4   \n",
              "3  0x0aaa79f1a86bc8136cd0d1ca0d51964f4e3766f9        80                   80   \n",
              "4  0x0fe383e5abc200055a7f391f94a5f5d1f844b9ae         5                    5   \n",
              "\n",
              "   num_failed_txns  avg_tx_value  total_value_sent      total_fees_paid  \\\n",
              "0                0  0.000000e+00      0.000000e+00    11477582050000000   \n",
              "1                0  4.860370e+15      2.430185e+16    15559648000000000   \n",
              "2                0  4.650000e+15      1.860000e+16    15780978000000000   \n",
              "3                0  2.523044e+18      2.018435e+20  1725902402924921473   \n",
              "4                0  5.200938e+15      2.600469e+16    14405516000000000   \n",
              "\n",
              "   total_gas_spent  avg_gas_price  num_unique_to_addresses  active_days  \\\n",
              "0         15759646   1.587500e+09                        2            4   \n",
              "1           308732   5.280000e+10                        4            1   \n",
              "2           290793   5.850000e+10                        3            1   \n",
              "3        132280277   3.998171e+10                       56           57   \n",
              "4           308720   5.214000e+10                        4            2   \n",
              "\n",
              "   activity_duration_days  \n",
              "0                     113  \n",
              "1                       0  \n",
              "2                       0  \n",
              "3                    2067  \n",
              "4                      63  "
            ],
            "text/html": [
              "\n",
              "  <div id=\"df-578617c9-506a-4aaf-91bc-01d9f8da61f4\" class=\"colab-df-container\">\n",
              "    <div>\n",
              "<style scoped>\n",
              "    .dataframe tbody tr th:only-of-type {\n",
              "        vertical-align: middle;\n",
              "    }\n",
              "\n",
              "    .dataframe tbody tr th {\n",
              "        vertical-align: top;\n",
              "    }\n",
              "\n",
              "    .dataframe thead th {\n",
              "        text-align: right;\n",
              "    }\n",
              "</style>\n",
              "<table border=\"1\" class=\"dataframe\">\n",
              "  <thead>\n",
              "    <tr style=\"text-align: right;\">\n",
              "      <th></th>\n",
              "      <th>wallet_id</th>\n",
              "      <th>num_txns</th>\n",
              "      <th>num_successful_txns</th>\n",
              "      <th>num_failed_txns</th>\n",
              "      <th>avg_tx_value</th>\n",
              "      <th>total_value_sent</th>\n",
              "      <th>total_fees_paid</th>\n",
              "      <th>total_gas_spent</th>\n",
              "      <th>avg_gas_price</th>\n",
              "      <th>num_unique_to_addresses</th>\n",
              "      <th>active_days</th>\n",
              "      <th>activity_duration_days</th>\n",
              "    </tr>\n",
              "  </thead>\n",
              "  <tbody>\n",
              "    <tr>\n",
              "      <th>0</th>\n",
              "      <td>0x0039f22efb07a647557c7c5d17854cfd6d489ef3</td>\n",
              "      <td>4</td>\n",
              "      <td>4</td>\n",
              "      <td>0</td>\n",
              "      <td>0.000000e+00</td>\n",
              "      <td>0.000000e+00</td>\n",
              "      <td>11477582050000000</td>\n",
              "      <td>15759646</td>\n",
              "      <td>1.587500e+09</td>\n",
              "      <td>2</td>\n",
              "      <td>4</td>\n",
              "      <td>113</td>\n",
              "    </tr>\n",
              "    <tr>\n",
              "      <th>1</th>\n",
              "      <td>0x06b51c6882b27cb05e712185531c1f74996dd988</td>\n",
              "      <td>5</td>\n",
              "      <td>5</td>\n",
              "      <td>0</td>\n",
              "      <td>4.860370e+15</td>\n",
              "      <td>2.430185e+16</td>\n",
              "      <td>15559648000000000</td>\n",
              "      <td>308732</td>\n",
              "      <td>5.280000e+10</td>\n",
              "      <td>4</td>\n",
              "      <td>1</td>\n",
              "      <td>0</td>\n",
              "    </tr>\n",
              "    <tr>\n",
              "      <th>2</th>\n",
              "      <td>0x0795732aacc448030ef374374eaae57d2965c16c</td>\n",
              "      <td>4</td>\n",
              "      <td>4</td>\n",
              "      <td>0</td>\n",
              "      <td>4.650000e+15</td>\n",
              "      <td>1.860000e+16</td>\n",
              "      <td>15780978000000000</td>\n",
              "      <td>290793</td>\n",
              "      <td>5.850000e+10</td>\n",
              "      <td>3</td>\n",
              "      <td>1</td>\n",
              "      <td>0</td>\n",
              "    </tr>\n",
              "    <tr>\n",
              "      <th>3</th>\n",
              "      <td>0x0aaa79f1a86bc8136cd0d1ca0d51964f4e3766f9</td>\n",
              "      <td>80</td>\n",
              "      <td>80</td>\n",
              "      <td>0</td>\n",
              "      <td>2.523044e+18</td>\n",
              "      <td>2.018435e+20</td>\n",
              "      <td>1725902402924921473</td>\n",
              "      <td>132280277</td>\n",
              "      <td>3.998171e+10</td>\n",
              "      <td>56</td>\n",
              "      <td>57</td>\n",
              "      <td>2067</td>\n",
              "    </tr>\n",
              "    <tr>\n",
              "      <th>4</th>\n",
              "      <td>0x0fe383e5abc200055a7f391f94a5f5d1f844b9ae</td>\n",
              "      <td>5</td>\n",
              "      <td>5</td>\n",
              "      <td>0</td>\n",
              "      <td>5.200938e+15</td>\n",
              "      <td>2.600469e+16</td>\n",
              "      <td>14405516000000000</td>\n",
              "      <td>308720</td>\n",
              "      <td>5.214000e+10</td>\n",
              "      <td>4</td>\n",
              "      <td>2</td>\n",
              "      <td>63</td>\n",
              "    </tr>\n",
              "  </tbody>\n",
              "</table>\n",
              "</div>\n",
              "    <div class=\"colab-df-buttons\">\n",
              "\n",
              "  <div class=\"colab-df-container\">\n",
              "    <button class=\"colab-df-convert\" onclick=\"convertToInteractive('df-578617c9-506a-4aaf-91bc-01d9f8da61f4')\"\n",
              "            title=\"Convert this dataframe to an interactive table.\"\n",
              "            style=\"display:none;\">\n",
              "\n",
              "  <svg xmlns=\"http://www.w3.org/2000/svg\" height=\"24px\" viewBox=\"0 -960 960 960\">\n",
              "    <path d=\"M120-120v-720h720v720H120Zm60-500h600v-160H180v160Zm220 220h160v-160H400v160Zm0 220h160v-160H400v160ZM180-400h160v-160H180v160Zm440 0h160v-160H620v160ZM180-180h160v-160H180v160Zm440 0h160v-160H620v160Z\"/>\n",
              "  </svg>\n",
              "    </button>\n",
              "\n",
              "  <style>\n",
              "    .colab-df-container {\n",
              "      display:flex;\n",
              "      gap: 12px;\n",
              "    }\n",
              "\n",
              "    .colab-df-convert {\n",
              "      background-color: #E8F0FE;\n",
              "      border: none;\n",
              "      border-radius: 50%;\n",
              "      cursor: pointer;\n",
              "      display: none;\n",
              "      fill: #1967D2;\n",
              "      height: 32px;\n",
              "      padding: 0 0 0 0;\n",
              "      width: 32px;\n",
              "    }\n",
              "\n",
              "    .colab-df-convert:hover {\n",
              "      background-color: #E2EBFA;\n",
              "      box-shadow: 0px 1px 2px rgba(60, 64, 67, 0.3), 0px 1px 3px 1px rgba(60, 64, 67, 0.15);\n",
              "      fill: #174EA6;\n",
              "    }\n",
              "\n",
              "    .colab-df-buttons div {\n",
              "      margin-bottom: 4px;\n",
              "    }\n",
              "\n",
              "    [theme=dark] .colab-df-convert {\n",
              "      background-color: #3B4455;\n",
              "      fill: #D2E3FC;\n",
              "    }\n",
              "\n",
              "    [theme=dark] .colab-df-convert:hover {\n",
              "      background-color: #434B5C;\n",
              "      box-shadow: 0px 1px 3px 1px rgba(0, 0, 0, 0.15);\n",
              "      filter: drop-shadow(0px 1px 2px rgba(0, 0, 0, 0.3));\n",
              "      fill: #FFFFFF;\n",
              "    }\n",
              "  </style>\n",
              "\n",
              "    <script>\n",
              "      const buttonEl =\n",
              "        document.querySelector('#df-578617c9-506a-4aaf-91bc-01d9f8da61f4 button.colab-df-convert');\n",
              "      buttonEl.style.display =\n",
              "        google.colab.kernel.accessAllowed ? 'block' : 'none';\n",
              "\n",
              "      async function convertToInteractive(key) {\n",
              "        const element = document.querySelector('#df-578617c9-506a-4aaf-91bc-01d9f8da61f4');\n",
              "        const dataTable =\n",
              "          await google.colab.kernel.invokeFunction('convertToInteractive',\n",
              "                                                    [key], {});\n",
              "        if (!dataTable) return;\n",
              "\n",
              "        const docLinkHtml = 'Like what you see? Visit the ' +\n",
              "          '<a target=\"_blank\" href=https://colab.research.google.com/notebooks/data_table.ipynb>data table notebook</a>'\n",
              "          + ' to learn more about interactive tables.';\n",
              "        element.innerHTML = '';\n",
              "        dataTable['output_type'] = 'display_data';\n",
              "        await google.colab.output.renderOutput(dataTable, element);\n",
              "        const docLink = document.createElement('div');\n",
              "        docLink.innerHTML = docLinkHtml;\n",
              "        element.appendChild(docLink);\n",
              "      }\n",
              "    </script>\n",
              "  </div>\n",
              "\n",
              "\n",
              "    <div id=\"df-9a8d7db5-174c-4656-8ef8-c3e6bf7b235b\">\n",
              "      <button class=\"colab-df-quickchart\" onclick=\"quickchart('df-9a8d7db5-174c-4656-8ef8-c3e6bf7b235b')\"\n",
              "                title=\"Suggest charts\"\n",
              "                style=\"display:none;\">\n",
              "\n",
              "<svg xmlns=\"http://www.w3.org/2000/svg\" height=\"24px\"viewBox=\"0 0 24 24\"\n",
              "     width=\"24px\">\n",
              "    <g>\n",
              "        <path d=\"M19 3H5c-1.1 0-2 .9-2 2v14c0 1.1.9 2 2 2h14c1.1 0 2-.9 2-2V5c0-1.1-.9-2-2-2zM9 17H7v-7h2v7zm4 0h-2V7h2v10zm4 0h-2v-4h2v4z\"/>\n",
              "    </g>\n",
              "</svg>\n",
              "      </button>\n",
              "\n",
              "<style>\n",
              "  .colab-df-quickchart {\n",
              "      --bg-color: #E8F0FE;\n",
              "      --fill-color: #1967D2;\n",
              "      --hover-bg-color: #E2EBFA;\n",
              "      --hover-fill-color: #174EA6;\n",
              "      --disabled-fill-color: #AAA;\n",
              "      --disabled-bg-color: #DDD;\n",
              "  }\n",
              "\n",
              "  [theme=dark] .colab-df-quickchart {\n",
              "      --bg-color: #3B4455;\n",
              "      --fill-color: #D2E3FC;\n",
              "      --hover-bg-color: #434B5C;\n",
              "      --hover-fill-color: #FFFFFF;\n",
              "      --disabled-bg-color: #3B4455;\n",
              "      --disabled-fill-color: #666;\n",
              "  }\n",
              "\n",
              "  .colab-df-quickchart {\n",
              "    background-color: var(--bg-color);\n",
              "    border: none;\n",
              "    border-radius: 50%;\n",
              "    cursor: pointer;\n",
              "    display: none;\n",
              "    fill: var(--fill-color);\n",
              "    height: 32px;\n",
              "    padding: 0;\n",
              "    width: 32px;\n",
              "  }\n",
              "\n",
              "  .colab-df-quickchart:hover {\n",
              "    background-color: var(--hover-bg-color);\n",
              "    box-shadow: 0 1px 2px rgba(60, 64, 67, 0.3), 0 1px 3px 1px rgba(60, 64, 67, 0.15);\n",
              "    fill: var(--button-hover-fill-color);\n",
              "  }\n",
              "\n",
              "  .colab-df-quickchart-complete:disabled,\n",
              "  .colab-df-quickchart-complete:disabled:hover {\n",
              "    background-color: var(--disabled-bg-color);\n",
              "    fill: var(--disabled-fill-color);\n",
              "    box-shadow: none;\n",
              "  }\n",
              "\n",
              "  .colab-df-spinner {\n",
              "    border: 2px solid var(--fill-color);\n",
              "    border-color: transparent;\n",
              "    border-bottom-color: var(--fill-color);\n",
              "    animation:\n",
              "      spin 1s steps(1) infinite;\n",
              "  }\n",
              "\n",
              "  @keyframes spin {\n",
              "    0% {\n",
              "      border-color: transparent;\n",
              "      border-bottom-color: var(--fill-color);\n",
              "      border-left-color: var(--fill-color);\n",
              "    }\n",
              "    20% {\n",
              "      border-color: transparent;\n",
              "      border-left-color: var(--fill-color);\n",
              "      border-top-color: var(--fill-color);\n",
              "    }\n",
              "    30% {\n",
              "      border-color: transparent;\n",
              "      border-left-color: var(--fill-color);\n",
              "      border-top-color: var(--fill-color);\n",
              "      border-right-color: var(--fill-color);\n",
              "    }\n",
              "    40% {\n",
              "      border-color: transparent;\n",
              "      border-right-color: var(--fill-color);\n",
              "      border-top-color: var(--fill-color);\n",
              "    }\n",
              "    60% {\n",
              "      border-color: transparent;\n",
              "      border-right-color: var(--fill-color);\n",
              "    }\n",
              "    80% {\n",
              "      border-color: transparent;\n",
              "      border-right-color: var(--fill-color);\n",
              "      border-bottom-color: var(--fill-color);\n",
              "    }\n",
              "    90% {\n",
              "      border-color: transparent;\n",
              "      border-bottom-color: var(--fill-color);\n",
              "    }\n",
              "  }\n",
              "</style>\n",
              "\n",
              "      <script>\n",
              "        async function quickchart(key) {\n",
              "          const quickchartButtonEl =\n",
              "            document.querySelector('#' + key + ' button');\n",
              "          quickchartButtonEl.disabled = true;  // To prevent multiple clicks.\n",
              "          quickchartButtonEl.classList.add('colab-df-spinner');\n",
              "          try {\n",
              "            const charts = await google.colab.kernel.invokeFunction(\n",
              "                'suggestCharts', [key], {});\n",
              "          } catch (error) {\n",
              "            console.error('Error during call to suggestCharts:', error);\n",
              "          }\n",
              "          quickchartButtonEl.classList.remove('colab-df-spinner');\n",
              "          quickchartButtonEl.classList.add('colab-df-quickchart-complete');\n",
              "        }\n",
              "        (() => {\n",
              "          let quickchartButtonEl =\n",
              "            document.querySelector('#df-9a8d7db5-174c-4656-8ef8-c3e6bf7b235b button');\n",
              "          quickchartButtonEl.style.display =\n",
              "            google.colab.kernel.accessAllowed ? 'block' : 'none';\n",
              "        })();\n",
              "      </script>\n",
              "    </div>\n",
              "\n",
              "    </div>\n",
              "  </div>\n"
            ],
            "application/vnd.google.colaboratory.intrinsic+json": {
              "type": "dataframe",
              "variable_name": "features_df",
              "summary": "{\n  \"name\": \"features_df\",\n  \"rows\": 100,\n  \"fields\": [\n    {\n      \"column\": \"wallet_id\",\n      \"properties\": {\n        \"dtype\": \"string\",\n        \"num_unique_values\": 100,\n        \"samples\": [\n          \"0xcbbd9fe837a14258286bbf2e182cbc4e4518c5a3\",\n          \"0x7b57dbe2f2e4912a29754ff3e412ed9507fd8957\",\n          \"0x9a363adc5d382c04d36b09158286328f75672098\"\n        ],\n        \"semantic_type\": \"\",\n        \"description\": \"\"\n      }\n    },\n    {\n      \"column\": \"num_txns\",\n      \"properties\": {\n        \"dtype\": \"number\",\n        \"std\": 22,\n        \"min\": 1,\n        \"max\": 97,\n        \"num_unique_values\": 35,\n        \"samples\": [\n          17,\n          35,\n          9\n        ],\n        \"semantic_type\": \"\",\n        \"description\": \"\"\n      }\n    },\n    {\n      \"column\": \"num_successful_txns\",\n      \"properties\": {\n        \"dtype\": \"number\",\n        \"std\": 22,\n        \"min\": 1,\n        \"max\": 97,\n        \"num_unique_values\": 34,\n        \"samples\": [\n          8,\n          15,\n          47\n        ],\n        \"semantic_type\": \"\",\n        \"description\": \"\"\n      }\n    },\n    {\n      \"column\": \"num_failed_txns\",\n      \"properties\": {\n        \"dtype\": \"number\",\n        \"std\": 1,\n        \"min\": 0,\n        \"max\": 12,\n        \"num_unique_values\": 5,\n        \"samples\": [\n          1,\n          12,\n          2\n        ],\n        \"semantic_type\": \"\",\n        \"description\": \"\"\n      }\n    },\n    {\n      \"column\": \"avg_tx_value\",\n      \"properties\": {\n        \"dtype\": \"number\",\n        \"std\": 1.6414716282171727e+18,\n        \"min\": 0.0,\n        \"max\": 1.5679105207714286e+19,\n        \"num_unique_values\": 81,\n        \"samples\": [\n          5773726000000000.0,\n          0.0,\n          1.758276492785174e+17\n        ],\n        \"semantic_type\": \"\",\n        \"description\": \"\"\n      }\n    },\n    {\n      \"column\": \"total_value_sent\",\n      \"properties\": {\n        \"dtype\": \"number\",\n        \"std\": 1.120398711245443e+20,\n        \"min\": 0.0,\n        \"max\": 1.09753736454e+21,\n        \"num_unique_values\": 79,\n        \"samples\": [\n          3.794616391171204e+17,\n          0.0,\n          1.936281355e+18\n        ],\n        \"semantic_type\": \"\",\n        \"description\": \"\"\n      }\n    },\n    {\n      \"column\": \"total_fees_paid\",\n      \"properties\": {\n        \"dtype\": \"number\",\n        \"std\": 328469076213520128,\n        \"min\": 45979108115660,\n        \"max\": 1725902402924921473,\n        \"num_unique_values\": 100,\n        \"samples\": [\n          288887045688215023,\n          16507587000000000,\n          88649894135252902\n        ],\n        \"semantic_type\": \"\",\n        \"description\": \"\"\n      }\n    },\n    {\n      \"column\": \"total_gas_spent\",\n      \"properties\": {\n        \"dtype\": \"number\",\n        \"std\": 36195329,\n        \"min\": 57436,\n        \"max\": 299127574,\n        \"num_unique_values\": 83,\n        \"samples\": [\n          2307429,\n          15759646,\n          8777726\n        ],\n        \"semantic_type\": \"\",\n        \"description\": \"\"\n      }\n    },\n    {\n      \"column\": \"avg_gas_price\",\n      \"properties\": {\n        \"dtype\": \"number\",\n        \"std\": 30941568983.817738,\n        \"min\": 778154943.75,\n        \"max\": 143462456450.375,\n        \"num_unique_values\": 98,\n        \"samples\": [\n          60107141824.6,\n          69975451998.03636,\n          800527685.0\n        ],\n        \"semantic_type\": \"\",\n        \"description\": \"\"\n      }\n    },\n    {\n      \"column\": \"num_unique_to_addresses\",\n      \"properties\": {\n        \"dtype\": \"number\",\n        \"std\": 10,\n        \"min\": 1,\n        \"max\": 56,\n        \"num_unique_values\": 27,\n        \"samples\": [\n          6,\n          23,\n          17\n        ],\n        \"semantic_type\": \"\",\n        \"description\": \"\"\n      }\n    },\n    {\n      \"column\": \"active_days\",\n      \"properties\": {\n        \"dtype\": \"number\",\n        \"std\": 10,\n        \"min\": 1,\n        \"max\": 57,\n        \"num_unique_values\": 24,\n        \"samples\": [\n          30,\n          7,\n          4\n        ],\n        \"semantic_type\": \"\",\n        \"description\": \"\"\n      }\n    },\n    {\n      \"column\": \"activity_duration_days\",\n      \"properties\": {\n        \"dtype\": \"number\",\n        \"std\": 751,\n        \"min\": 0,\n        \"max\": 2862,\n        \"num_unique_values\": 67,\n        \"samples\": [\n          1,\n          1567,\n          698\n        ],\n        \"semantic_type\": \"\",\n        \"description\": \"\"\n      }\n    }\n  ]\n}"
            }
          },
          "metadata": {},
          "execution_count": 14
        }
      ]
    },
    {
      "cell_type": "markdown",
      "source": [
        "Feature Scaling & Model Building"
      ],
      "metadata": {
        "id": "8lGEi15XDr_e"
      }
    },
    {
      "cell_type": "code",
      "source": [
        "from sklearn.preprocessing import StandardScaler\n",
        "\n",
        "# Select only numeric features (excluding wallet_id)\n",
        "X = features_df.drop('wallet_id', axis=1)\n",
        "\n",
        "# Initialize scaler and fit_transform\n",
        "scaler = StandardScaler()\n",
        "X_scaled = scaler.fit_transform(X)\n"
      ],
      "metadata": {
        "id": "dxXr3gRg0n7e"
      },
      "execution_count": 15,
      "outputs": []
    },
    {
      "cell_type": "markdown",
      "source": [
        "Find Optimal Number of Clusters (Elbow Method)"
      ],
      "metadata": {
        "id": "BawhefazEG_C"
      }
    },
    {
      "cell_type": "code",
      "source": [
        "from sklearn.cluster import KMeans\n",
        "import matplotlib.pyplot as plt\n",
        "\n",
        "# Try k from 1 to 10\n",
        "inertia = []\n",
        "K_range = range(1, 11)\n",
        "\n",
        "for k in K_range:\n",
        "    kmeans = KMeans(n_clusters=k, random_state=42)\n",
        "    kmeans.fit(X_scaled)\n",
        "    inertia.append(kmeans.inertia_)\n",
        "\n",
        "# Plot Elbow Curve\n",
        "plt.figure(figsize=(8, 5))\n",
        "plt.plot(K_range, inertia, 'bo-')\n",
        "plt.xlabel('Number of Clusters (k)')\n",
        "plt.ylabel('Inertia')\n",
        "plt.title('Elbow Method For Optimal k')\n",
        "plt.grid(True)\n",
        "plt.show()\n"
      ],
      "metadata": {
        "colab": {
          "base_uri": "https://localhost:8080/",
          "height": 487
        },
        "id": "qTntpskh0n5A",
        "outputId": "ff05dfab-28b5-420c-b1e0-ea1f455007a8"
      },
      "execution_count": 16,
      "outputs": [
        {
          "output_type": "display_data",
          "data": {
            "text/plain": [
              "<Figure size 800x500 with 1 Axes>"
            ],
            "image/png": "[encoded data removed]"
          },
          "metadata": {}
        }
      ]
    },
    {
      "cell_type": "markdown",
      "source": [
        "Inertia drops steeply from k = 1 to k = 2\n",
        "\n",
        "Then it gradually decreases after that\n",
        "\n",
        "There’s a visible “elbow” or bend at k = 3 or k = 4"
      ],
      "metadata": {
        "id": "EP_7mXFYFH2k"
      }
    },
    {
      "cell_type": "markdown",
      "source": [
        "Final Clustering using KMeans"
      ],
      "metadata": {
        "id": "g8US85KbFj5n"
      }
    },
    {
      "cell_type": "code",
      "source": [
        "# Fit KMeans with best k\n",
        "kmeans = KMeans(n_clusters=4, random_state=42)\n",
        "clusters = kmeans.fit_predict(X_scaled)\n",
        "\n",
        "# Add cluster labels to the features_df\n",
        "features_df['cluster'] = clusters\n"
      ],
      "metadata": {
        "id": "Fz-LIpbA0n2m"
      },
      "execution_count": 17,
      "outputs": []
    },
    {
      "cell_type": "code",
      "source": [],
      "metadata": {
        "id": "avBIQhmdDXsG"
      },
      "execution_count": 17,
      "outputs": []
    },
    {
      "cell_type": "markdown",
      "source": [
        "Cluster Analysis & Visualization"
      ],
      "metadata": {
        "id": "06GuWwieF2Bu"
      }
    },
    {
      "cell_type": "markdown",
      "source": [
        "Cluster-wise Summary Statistics"
      ],
      "metadata": {
        "id": "izqk-EfpF8vK"
      }
    },
    {
      "cell_type": "code",
      "source": [
        "# Cluster-wise average of features\n",
        "cluster_summary = features_df.groupby('cluster').mean(numeric_only=True)\n",
        "print(cluster_summary)\n"
      ],
      "metadata": {
        "colab": {
          "base_uri": "https://localhost:8080/"
        },
        "id": "ug0k45NjDXou",
        "outputId": "041add78-3514-422b-e045-4ec919dcf33e"
      },
      "execution_count": 18,
      "outputs": [
        {
          "output_type": "stream",
          "name": "stdout",
          "text": [
            "          num_txns  num_successful_txns  num_failed_txns  avg_tx_value  \\\n",
            "cluster                                                                  \n",
            "0        25.090909            24.772727         0.318182  3.497447e+17   \n",
            "1        74.000000            73.100000         0.900000  1.865736e+18   \n",
            "2         6.298507             6.283582         0.014925  8.362955e+15   \n",
            "3        33.000000            21.000000        12.000000  1.426872e+16   \n",
            "\n",
            "         total_value_sent  total_fees_paid  total_gas_spent  avg_gas_price  \\\n",
            "cluster                                                                      \n",
            "0            9.879560e+18     1.998161e+17     9.438823e+06   5.890538e+10   \n",
            "1            1.338350e+20     8.729372e+17     8.436104e+07   4.938874e+10   \n",
            "2            6.072392e+16     1.981309e+16     1.130758e+06   4.106239e+10   \n",
            "3            4.708679e+17     1.600414e+17     7.413821e+06   8.308872e+10   \n",
            "\n",
            "         num_unique_to_addresses  active_days  activity_duration_days  \n",
            "cluster                                                                \n",
            "0                      10.545455    10.636364             1304.272727  \n",
            "1                      36.500000    32.300000             1509.400000  \n",
            "2                       3.985075     2.164179              140.761194  \n",
            "3                      12.000000    10.000000             1387.000000  \n"
          ]
        }
      ]
    },
    {
      "cell_type": "code",
      "source": [],
      "metadata": {
        "id": "JYsliADhHsY4"
      },
      "execution_count": 18,
      "outputs": []
    },
    {
      "cell_type": "markdown",
      "source": [
        "Cluster 1 → High value + high activity\n",
        "\n",
        "Cluster 2 → Low value, low activity\n",
        "\n",
        "Cluster 3 → High failure rate\n",
        "\n",
        "Cluster 0 → Average users with long history"
      ],
      "metadata": {
        "id": "twICZ7QJHoMY"
      }
    },
    {
      "cell_type": "code",
      "source": [],
      "metadata": {
        "id": "FfXiEvcHDXmp"
      },
      "execution_count": 18,
      "outputs": []
    },
    {
      "cell_type": "markdown",
      "source": [
        "Visualize Clusters (PCA)"
      ],
      "metadata": {
        "id": "SBl_eCHsIDsu"
      }
    },
    {
      "cell_type": "code",
      "source": [
        "from sklearn.decomposition import PCA\n",
        "import seaborn as sns\n",
        "import matplotlib.pyplot as plt\n",
        "\n",
        "# Reduce to 2D for plotting\n",
        "pca = PCA(n_components=2)\n",
        "X_pca = pca.fit_transform(X_scaled)\n",
        "\n",
        "# Add PCA components to DataFrame\n",
        "features_df['pca1'] = X_pca[:, 0]\n",
        "features_df['pca2'] = X_pca[:, 1]\n",
        "\n",
        "# Plot the clusters\n",
        "plt.figure(figsize=(8,6))\n",
        "sns.scatterplot(data=features_df, x='pca1', y='pca2', hue='cluster', palette='Set2', s=70)\n",
        "plt.title('Wallet Clusters (via PCA)')\n",
        "plt.grid(True)\n",
        "plt.show()\n"
      ],
      "metadata": {
        "colab": {
          "base_uri": "https://localhost:8080/",
          "height": 564
        },
        "id": "VCvY2ytsDXkT",
        "outputId": "1faf3e8f-ea38-4b38-8356-c9ec3e3b9f31"
      },
      "execution_count": 19,
      "outputs": [
        {
          "output_type": "display_data",
          "data": {
            "text/plain": [
              "<Figure size 800x600 with 1 Axes>"
            ],
            "image/png": "[encoded data removed]"
          },
          "metadata": {}
        }
      ]
    },
    {
      "cell_type": "markdown",
      "source": [
        "The PCA (Principal Component Analysis) plot above visualizes the wallet clusters formed using K-Means clustering, reduced to two principal components (PCA1 and PCA2) for easy interpretation.\n",
        "\n",
        "Cluster 1 (Orange): This cluster is the most widely spread and far from the others, indicating highly active wallets with large transaction volumes, high total value transferred, and possibly high risk. These could be institutional wallets or whales.\n",
        "\n",
        "Cluster 0 (Green): This group represents moderately active wallets, with a decent number of successful transactions, moderate total value sent, and relatively stable gas usage. Likely represents regular but not extreme users.\n",
        "\n",
        "Cluster 2 (Blue): These wallets show minimal activity, with low transaction counts, low total value, and fewer active days. These are likely low-risk or dormant wallets.\n",
        "\n",
        "Cluster 3 (Pink): A very small group that may indicate anomalous behavior, such as high gas fees despite fewer transactions or irregular patterns. This could be due to spammy behavior or niche usage patterns.\n",
        "\n",
        "Overall, the PCA plot confirms that the K-Means clustering has successfully grouped wallets with similar behavior. The clear separation between clusters suggests that the selected features are meaningful for identifying usage patterns and potential risk levels.\n",
        "\n"
      ],
      "metadata": {
        "id": "G9waCu9kJk8Y"
      }
    },
    {
      "cell_type": "code",
      "source": [],
      "metadata": {
        "id": "pak3eNpJDXhx"
      },
      "execution_count": 19,
      "outputs": []
    },
    {
      "cell_type": "markdown",
      "source": [
        "Final Risk Score Function"
      ],
      "metadata": {
        "id": "zKtb51KgMTXx"
      }
    },
    {
      "cell_type": "code",
      "source": [
        "def assign_risk_score(cluster_label):\n",
        "    if cluster_label == 1:\n",
        "        return 900\n",
        "    elif cluster_label == 0:\n",
        "        return 700\n",
        "    elif cluster_label == 2:\n",
        "        return 800\n",
        "    elif cluster_label == 3:\n",
        "        return 400\n",
        "\n",
        "features_df['risk_score'] = features_df['cluster'].apply(assign_risk_score)\n"
      ],
      "metadata": {
        "id": "a3el5MtJDXXQ"
      },
      "execution_count": 20,
      "outputs": []
    },
    {
      "cell_type": "markdown",
      "source": [
        "risk score ka distribution"
      ],
      "metadata": {
        "id": "fffC7iRCNkyy"
      }
    },
    {
      "cell_type": "code",
      "source": [
        "features_df['risk_score'].value_counts()\n"
      ],
      "metadata": {
        "colab": {
          "base_uri": "https://localhost:8080/",
          "height": 241
        },
        "id": "NS-A_CxrDXVB",
        "outputId": "7c939e6a-b3eb-4961-e472-88bac2fdcfa0"
      },
      "execution_count": 21,
      "outputs": [
        {
          "output_type": "execute_result",
          "data": {
            "text/plain": [
              "risk_score\n",
              "800    67\n",
              "700    22\n",
              "900    10\n",
              "400     1\n",
              "Name: count, dtype: int64"
            ],
            "text/html": [
              "<div>\n",
              "<style scoped>\n",
              "    .dataframe tbody tr th:only-of-type {\n",
              "        vertical-align: middle;\n",
              "    }\n",
              "\n",
              "    .dataframe tbody tr th {\n",
              "        vertical-align: top;\n",
              "    }\n",
              "\n",
              "    .dataframe thead th {\n",
              "        text-align: right;\n",
              "    }\n",
              "</style>\n",
              "<table border=\"1\" class=\"dataframe\">\n",
              "  <thead>\n",
              "    <tr style=\"text-align: right;\">\n",
              "      <th></th>\n",
              "      <th>count</th>\n",
              "    </tr>\n",
              "    <tr>\n",
              "      <th>risk_score</th>\n",
              "      <th></th>\n",
              "    </tr>\n",
              "  </thead>\n",
              "  <tbody>\n",
              "    <tr>\n",
              "      <th>800</th>\n",
              "      <td>67</td>\n",
              "    </tr>\n",
              "    <tr>\n",
              "      <th>700</th>\n",
              "      <td>22</td>\n",
              "    </tr>\n",
              "    <tr>\n",
              "      <th>900</th>\n",
              "      <td>10</td>\n",
              "    </tr>\n",
              "    <tr>\n",
              "      <th>400</th>\n",
              "      <td>1</td>\n",
              "    </tr>\n",
              "  </tbody>\n",
              "</table>\n",
              "</div><br><label><b>dtype:</b> int64</label>"
            ]
          },
          "metadata": {},
          "execution_count": 21
        }
      ]
    },
    {
      "cell_type": "markdown",
      "source": [
        "Interpretation:\n",
        "900: Very safe wallets (Cluster 1) – High activity, high success, large value.\n",
        "\n",
        "800: Medium-risk wallets (Cluster 2) – Few transactions, low value.\n",
        "\n",
        "700: Decent wallets (Cluster 0) – Moderate activity, low failure.\n",
        "\n",
        "400: High-risk wallet (Cluster 3) – Highest number of failed transactions."
      ],
      "metadata": {
        "id": "vgJrbBiLODn6"
      }
    },
    {
      "cell_type": "code",
      "source": [
        "features_df[['wallet_id', 'cluster', 'risk_score']].head(10)\n"
      ],
      "metadata": {
        "colab": {
          "base_uri": "https://localhost:8080/",
          "height": 363
        },
        "id": "RI4OQ_kRDXSl",
        "outputId": "ed82d55c-cc30-47ae-9284-17cb314a9eae"
      },
      "execution_count": 22,
      "outputs": [
        {
          "output_type": "execute_result",
          "data": {
            "text/plain": [
              "                                    wallet_id  cluster  risk_score\n",
              "0  0x0039f22efb07a647557c7c5d17854cfd6d489ef3        2         800\n",
              "1  0x06b51c6882b27cb05e712185531c1f74996dd988        2         800\n",
              "2  0x0795732aacc448030ef374374eaae57d2965c16c        2         800\n",
              "3  0x0aaa79f1a86bc8136cd0d1ca0d51964f4e3766f9        1         900\n",
              "4  0x0fe383e5abc200055a7f391f94a5f5d1f844b9ae        2         800\n",
              "5  0x104ae61d8d487ad689969a17807ddc338b445416        2         800\n",
              "6  0x111c7208a7e2af345d36b6d4aace8740d61a3078        2         800\n",
              "7  0x124853fecb522c57d9bd5c21231058696ca6d596        2         800\n",
              "8  0x13b1c8b0e696aff8b4fee742119b549b605f3cbc        2         800\n",
              "9  0x1656f1886c5ab634ac19568cd571bc72f385fdf7        0         700"
            ],
            "text/html": [
              "\n",
              "  <div id=\"df-5b8a4f95-774e-4c2f-b740-828d62185439\" class=\"colab-df-container\">\n",
              "    <div>\n",
              "<style scoped>\n",
              "    .dataframe tbody tr th:only-of-type {\n",
              "        vertical-align: middle;\n",
              "    }\n",
              "\n",
              "    .dataframe tbody tr th {\n",
              "        vertical-align: top;\n",
              "    }\n",
              "\n",
              "    .dataframe thead th {\n",
              "        text-align: right;\n",
              "    }\n",
              "</style>\n",
              "<table border=\"1\" class=\"dataframe\">\n",
              "  <thead>\n",
              "    <tr style=\"text-align: right;\">\n",
              "      <th></th>\n",
              "      <th>wallet_id</th>\n",
              "      <th>cluster</th>\n",
              "      <th>risk_score</th>\n",
              "    </tr>\n",
              "  </thead>\n",
              "  <tbody>\n",
              "    <tr>\n",
              "      <th>0</th>\n",
              "      <td>0x0039f22efb07a647557c7c5d17854cfd6d489ef3</td>\n",
              "      <td>2</td>\n",
              "      <td>800</td>\n",
              "    </tr>\n",
              "    <tr>\n",
              "      <th>1</th>\n",
              "      <td>0x06b51c6882b27cb05e712185531c1f74996dd988</td>\n",
              "      <td>2</td>\n",
              "      <td>800</td>\n",
              "    </tr>\n",
              "    <tr>\n",
              "      <th>2</th>\n",
              "      <td>0x0795732aacc448030ef374374eaae57d2965c16c</td>\n",
              "      <td>2</td>\n",
              "      <td>800</td>\n",
              "    </tr>\n",
              "    <tr>\n",
              "      <th>3</th>\n",
              "      <td>0x0aaa79f1a86bc8136cd0d1ca0d51964f4e3766f9</td>\n",
              "      <td>1</td>\n",
              "      <td>900</td>\n",
              "    </tr>\n",
              "    <tr>\n",
              "      <th>4</th>\n",
              "      <td>0x0fe383e5abc200055a7f391f94a5f5d1f844b9ae</td>\n",
              "      <td>2</td>\n",
              "      <td>800</td>\n",
              "    </tr>\n",
              "    <tr>\n",
              "      <th>5</th>\n",
              "      <td>0x104ae61d8d487ad689969a17807ddc338b445416</td>\n",
              "      <td>2</td>\n",
              "      <td>800</td>\n",
              "    </tr>\n",
              "    <tr>\n",
              "      <th>6</th>\n",
              "      <td>0x111c7208a7e2af345d36b6d4aace8740d61a3078</td>\n",
              "      <td>2</td>\n",
              "      <td>800</td>\n",
              "    </tr>\n",
              "    <tr>\n",
              "      <th>7</th>\n",
              "      <td>0x124853fecb522c57d9bd5c21231058696ca6d596</td>\n",
              "      <td>2</td>\n",
              "      <td>800</td>\n",
              "    </tr>\n",
              "    <tr>\n",
              "      <th>8</th>\n",
              "      <td>0x13b1c8b0e696aff8b4fee742119b549b605f3cbc</td>\n",
              "      <td>2</td>\n",
              "      <td>800</td>\n",
              "    </tr>\n",
              "    <tr>\n",
              "      <th>9</th>\n",
              "      <td>0x1656f1886c5ab634ac19568cd571bc72f385fdf7</td>\n",
              "      <td>0</td>\n",
              "      <td>700</td>\n",
              "    </tr>\n",
              "  </tbody>\n",
              "</table>\n",
              "</div>\n",
              "    <div class=\"colab-df-buttons\">\n",
              "\n",
              "  <div class=\"colab-df-container\">\n",
              "    <button class=\"colab-df-convert\" onclick=\"convertToInteractive('df-5b8a4f95-774e-4c2f-b740-828d62185439')\"\n",
              "            title=\"Convert this dataframe to an interactive table.\"\n",
              "            style=\"display:none;\">\n",
              "\n",
              "  <svg xmlns=\"http://www.w3.org/2000/svg\" height=\"24px\" viewBox=\"0 -960 960 960\">\n",
              "    <path d=\"M120-120v-720h720v720H120Zm60-500h600v-160H180v160Zm220 220h160v-160H400v160Zm0 220h160v-160H400v160ZM180-400h160v-160H180v160Zm440 0h160v-160H620v160ZM180-180h160v-160H180v160Zm440 0h160v-160H620v160Z\"/>\n",
              "  </svg>\n",
              "    </button>\n",
              "\n",
              "  <style>\n",
              "    .colab-df-container {\n",
              "      display:flex;\n",
              "      gap: 12px;\n",
              "    }\n",
              "\n",
              "    .colab-df-convert {\n",
              "      background-color: #E8F0FE;\n",
              "      border: none;\n",
              "      border-radius: 50%;\n",
              "      cursor: pointer;\n",
              "      display: none;\n",
              "      fill: #1967D2;\n",
              "      height: 32px;\n",
              "      padding: 0 0 0 0;\n",
              "      width: 32px;\n",
              "    }\n",
              "\n",
              "    .colab-df-convert:hover {\n",
              "      background-color: #E2EBFA;\n",
              "      box-shadow: 0px 1px 2px rgba(60, 64, 67, 0.3), 0px 1px 3px 1px rgba(60, 64, 67, 0.15);\n",
              "      fill: #174EA6;\n",
              "    }\n",
              "\n",
              "    .colab-df-buttons div {\n",
              "      margin-bottom: 4px;\n",
              "    }\n",
              "\n",
              "    [theme=dark] .colab-df-convert {\n",
              "      background-color: #3B4455;\n",
              "      fill: #D2E3FC;\n",
              "    }\n",
              "\n",
              "    [theme=dark] .colab-df-convert:hover {\n",
              "      background-color: #434B5C;\n",
              "      box-shadow: 0px 1px 3px 1px rgba(0, 0, 0, 0.15);\n",
              "      filter: drop-shadow(0px 1px 2px rgba(0, 0, 0, 0.3));\n",
              "      fill: #FFFFFF;\n",
              "    }\n",
              "  </style>\n",
              "\n",
              "    <script>\n",
              "      const buttonEl =\n",
              "        document.querySelector('#df-5b8a4f95-774e-4c2f-b740-828d62185439 button.colab-df-convert');\n",
              "      buttonEl.style.display =\n",
              "        google.colab.kernel.accessAllowed ? 'block' : 'none';\n",
              "\n",
              "      async function convertToInteractive(key) {\n",
              "        const element = document.querySelector('#df-5b8a4f95-774e-4c2f-b740-828d62185439');\n",
              "        const dataTable =\n",
              "          await google.colab.kernel.invokeFunction('convertToInteractive',\n",
              "                                                    [key], {});\n",
              "        if (!dataTable) return;\n",
              "\n",
              "        const docLinkHtml = 'Like what you see? Visit the ' +\n",
              "          '<a target=\"_blank\" href=https://colab.research.google.com/notebooks/data_table.ipynb>data table notebook</a>'\n",
              "          + ' to learn more about interactive tables.';\n",
              "        element.innerHTML = '';\n",
              "        dataTable['output_type'] = 'display_data';\n",
              "        await google.colab.output.renderOutput(dataTable, element);\n",
              "        const docLink = document.createElement('div');\n",
              "        docLink.innerHTML = docLinkHtml;\n",
              "        element.appendChild(docLink);\n",
              "      }\n",
              "    </script>\n",
              "  </div>\n",
              "\n",
              "\n",
              "    <div id=\"df-bb69c2a2-32de-4170-85b7-023396c38aad\">\n",
              "      <button class=\"colab-df-quickchart\" onclick=\"quickchart('df-bb69c2a2-32de-4170-85b7-023396c38aad')\"\n",
              "                title=\"Suggest charts\"\n",
              "                style=\"display:none;\">\n",
              "\n",
              "<svg xmlns=\"http://www.w3.org/2000/svg\" height=\"24px\"viewBox=\"0 0 24 24\"\n",
              "     width=\"24px\">\n",
              "    <g>\n",
              "        <path d=\"M19 3H5c-1.1 0-2 .9-2 2v14c0 1.1.9 2 2 2h14c1.1 0 2-.9 2-2V5c0-1.1-.9-2-2-2zM9 17H7v-7h2v7zm4 0h-2V7h2v10zm4 0h-2v-4h2v4z\"/>\n",
              "    </g>\n",
              "</svg>\n",
              "      </button>\n",
              "\n",
              "<style>\n",
              "  .colab-df-quickchart {\n",
              "      --bg-color: #E8F0FE;\n",
              "      --fill-color: #1967D2;\n",
              "      --hover-bg-color: #E2EBFA;\n",
              "      --hover-fill-color: #174EA6;\n",
              "      --disabled-fill-color: #AAA;\n",
              "      --disabled-bg-color: #DDD;\n",
              "  }\n",
              "\n",
              "  [theme=dark] .colab-df-quickchart {\n",
              "      --bg-color: #3B4455;\n",
              "      --fill-color: #D2E3FC;\n",
              "      --hover-bg-color: #434B5C;\n",
              "      --hover-fill-color: #FFFFFF;\n",
              "      --disabled-bg-color: #3B4455;\n",
              "      --disabled-fill-color: #666;\n",
              "  }\n",
              "\n",
              "  .colab-df-quickchart {\n",
              "    background-color: var(--bg-color);\n",
              "    border: none;\n",
              "    border-radius: 50%;\n",
              "    cursor: pointer;\n",
              "    display: none;\n",
              "    fill: var(--fill-color);\n",
              "    height: 32px;\n",
              "    padding: 0;\n",
              "    width: 32px;\n",
              "  }\n",
              "\n",
              "  .colab-df-quickchart:hover {\n",
              "    background-color: var(--hover-bg-color);\n",
              "    box-shadow: 0 1px 2px rgba(60, 64, 67, 0.3), 0 1px 3px 1px rgba(60, 64, 67, 0.15);\n",
              "    fill: var(--button-hover-fill-color);\n",
              "  }\n",
              "\n",
              "  .colab-df-quickchart-complete:disabled,\n",
              "  .colab-df-quickchart-complete:disabled:hover {\n",
              "    background-color: var(--disabled-bg-color);\n",
              "    fill: var(--disabled-fill-color);\n",
              "    box-shadow: none;\n",
              "  }\n",
              "\n",
              "  .colab-df-spinner {\n",
              "    border: 2px solid var(--fill-color);\n",
              "    border-color: transparent;\n",
              "    border-bottom-color: var(--fill-color);\n",
              "    animation:\n",
              "      spin 1s steps(1) infinite;\n",
              "  }\n",
              "\n",
              "  @keyframes spin {\n",
              "    0% {\n",
              "      border-color: transparent;\n",
              "      border-bottom-color: var(--fill-color);\n",
              "      border-left-color: var(--fill-color);\n",
              "    }\n",
              "    20% {\n",
              "      border-color: transparent;\n",
              "      border-left-color: var(--fill-color);\n",
              "      border-top-color: var(--fill-color);\n",
              "    }\n",
              "    30% {\n",
              "      border-color: transparent;\n",
              "      border-left-color: var(--fill-color);\n",
              "      border-top-color: var(--fill-color);\n",
              "      border-right-color: var(--fill-color);\n",
              "    }\n",
              "    40% {\n",
              "      border-color: transparent;\n",
              "      border-right-color: var(--fill-color);\n",
              "      border-top-color: var(--fill-color);\n",
              "    }\n",
              "    60% {\n",
              "      border-color: transparent;\n",
              "      border-right-color: var(--fill-color);\n",
              "    }\n",
              "    80% {\n",
              "      border-color: transparent;\n",
              "      border-right-color: var(--fill-color);\n",
              "      border-bottom-color: var(--fill-color);\n",
              "    }\n",
              "    90% {\n",
              "      border-color: transparent;\n",
              "      border-bottom-color: var(--fill-color);\n",
              "    }\n",
              "  }\n",
              "</style>\n",
              "\n",
              "      <script>\n",
              "        async function quickchart(key) {\n",
              "          const quickchartButtonEl =\n",
              "            document.querySelector('#' + key + ' button');\n",
              "          quickchartButtonEl.disabled = true;  // To prevent multiple clicks.\n",
              "          quickchartButtonEl.classList.add('colab-df-spinner');\n",
              "          try {\n",
              "            const charts = await google.colab.kernel.invokeFunction(\n",
              "                'suggestCharts', [key], {});\n",
              "          } catch (error) {\n",
              "            console.error('Error during call to suggestCharts:', error);\n",
              "          }\n",
              "          quickchartButtonEl.classList.remove('colab-df-spinner');\n",
              "          quickchartButtonEl.classList.add('colab-df-quickchart-complete');\n",
              "        }\n",
              "        (() => {\n",
              "          let quickchartButtonEl =\n",
              "            document.querySelector('#df-bb69c2a2-32de-4170-85b7-023396c38aad button');\n",
              "          quickchartButtonEl.style.display =\n",
              "            google.colab.kernel.accessAllowed ? 'block' : 'none';\n",
              "        })();\n",
              "      </script>\n",
              "    </div>\n",
              "\n",
              "    </div>\n",
              "  </div>\n"
            ],
            "application/vnd.google.colaboratory.intrinsic+json": {
              "type": "dataframe",
              "summary": "{\n  \"name\": \"features_df[['wallet_id', 'cluster', 'risk_score']]\",\n  \"rows\": 10,\n  \"fields\": [\n    {\n      \"column\": \"wallet_id\",\n      \"properties\": {\n        \"dtype\": \"string\",\n        \"num_unique_values\": 10,\n        \"samples\": [\n          \"0x13b1c8b0e696aff8b4fee742119b549b605f3cbc\",\n          \"0x06b51c6882b27cb05e712185531c1f74996dd988\",\n          \"0x104ae61d8d487ad689969a17807ddc338b445416\"\n        ],\n        \"semantic_type\": \"\",\n        \"description\": \"\"\n      }\n    },\n    {\n      \"column\": \"cluster\",\n      \"properties\": {\n        \"dtype\": \"int32\",\n        \"num_unique_values\": 3,\n        \"samples\": [\n          2,\n          1,\n          0\n        ],\n        \"semantic_type\": \"\",\n        \"description\": \"\"\n      }\n    },\n    {\n      \"column\": \"risk_score\",\n      \"properties\": {\n        \"dtype\": \"number\",\n        \"std\": 47,\n        \"min\": 700,\n        \"max\": 900,\n        \"num_unique_values\": 3,\n        \"samples\": [\n          800,\n          900,\n          700\n        ],\n        \"semantic_type\": \"\",\n        \"description\": \"\"\n      }\n    }\n  ]\n}"
            }
          },
          "metadata": {},
          "execution_count": 22
        }
      ]
    },
    {
      "cell_type": "markdown",
      "source": [
        " Visualization"
      ],
      "metadata": {
        "id": "hT5xwOJuO89C"
      }
    },
    {
      "cell_type": "code",
      "source": [
        "import seaborn as sns\n",
        "import matplotlib.pyplot as plt\n",
        "\n",
        "sns.countplot(data=features_df, x='risk_score')\n",
        "plt.title(\"Distribution of Risk Scores by Cluster\")\n",
        "plt.show()\n"
      ],
      "metadata": {
        "colab": {
          "base_uri": "https://localhost:8080/",
          "height": 472
        },
        "id": "0Te2pRzADXQQ",
        "outputId": "8960bdfb-c8bb-4f00-91df-4a377051e59b"
      },
      "execution_count": 23,
      "outputs": [
        {
          "output_type": "display_data",
          "data": {
            "text/plain": [
              "<Figure size 640x480 with 1 Axes>"
            ],
            "image/png": "[encoded data removed]"
          },
          "metadata": {}
        }
      ]
    },
    {
      "cell_type": "markdown",
      "source": [
        "CSV"
      ],
      "metadata": {
        "id": "OYBgiMOCPV_U"
      }
    },
    {
      "cell_type": "code",
      "source": [
        "features_df.to_csv(\"wallets_with_risk_scores.csv\", index=False)\n"
      ],
      "metadata": {
        "id": "JxxYMVA7DXN9"
      },
      "execution_count": 24,
      "outputs": []
    },
    {
      "cell_type": "markdown",
      "source": [
        "Risk Level (Low, Medium, High):\n",
        "\n"
      ],
      "metadata": {
        "id": "JG1B-Ri_PfAo"
      }
    },
    {
      "cell_type": "code",
      "source": [
        "def label_risk(score):\n",
        "    if score >= 900:\n",
        "        return \"Low Risk\"\n",
        "    elif score >= 800:\n",
        "        return \"Medium–Low Risk\"\n",
        "    elif score >= 700:\n",
        "        return \"Medium–High Risk\"\n",
        "    else:\n",
        "        return \"High Risk\"\n",
        "\n",
        "features_df[\"risk_label\"] = features_df[\"risk_score\"].apply(label_risk)\n"
      ],
      "metadata": {
        "id": "z7hwhsbuDXJJ"
      },
      "execution_count": 25,
      "outputs": []
    },
    {
      "cell_type": "markdown",
      "source": [
        "Risk Label Distribution Bar Chart"
      ],
      "metadata": {
        "id": "0tdhKTK0Q0Rc"
      }
    },
    {
      "cell_type": "code",
      "source": [
        "import matplotlib.pyplot as plt\n",
        "import seaborn as sns\n",
        "\n",
        "# Set style\n",
        "sns.set(style=\"whitegrid\")\n",
        "\n",
        "# Plot\n",
        "plt.figure(figsize=(8, 5))\n",
        "sns.countplot(x=\"risk_label\", data=features_df, palette=\"Set2\")\n",
        "\n",
        "# Titles and labels\n",
        "plt.title(\"Distribution of Wallets by Risk Label\", fontsize=14)\n",
        "plt.xlabel(\"Risk Label\", fontsize=12)\n",
        "plt.ylabel(\"Number of Wallets\", fontsize=12)\n",
        "plt.xticks(rotation=15)\n",
        "plt.tight_layout()\n",
        "plt.show()\n"
      ],
      "metadata": {
        "colab": {
          "base_uri": "https://localhost:8080/",
          "height": 608
        },
        "id": "4-Fc_R0yDXG1",
        "outputId": "cc283167-54c3-4f79-ef77-c653b7da072a"
      },
      "execution_count": 26,
      "outputs": [
        {
          "output_type": "stream",
          "name": "stderr",
          "text": [
            "/tmp/ipython-input-26-2989007109.py:9: FutureWarning: \n",
            "\n",
            "Passing `palette` without assigning `hue` is deprecated and will be removed in v0.14.0. Assign the `x` variable to `hue` and set `legend=False` for the same effect.\n",
            "\n",
            "  sns.countplot(x=\"risk_label\", data=features_df, palette=\"Set2\")\n"
          ]
        },
        {
          "output_type": "display_data",
          "data": {
            "text/plain": [
              "<Figure size 800x500 with 1 Axes>"
            ],
            "image/png": "[encoded data removed]"
          },
          "metadata": {}
        }
      ]
    },
    {
      "cell_type": "markdown",
      "source": [
        "Final Feature Table"
      ],
      "metadata": {
        "id": "hAmyRqP8nhYq"
      }
    },
    {
      "cell_type": "code",
      "source": [
        "final_df = features_df[[\"wallet_id\", \"cluster\", \"risk_score\", \"risk_label\"] + list(features_df.columns.difference([\"wallet_id\", \"cluster\", \"risk_score\", \"risk_label\"]))]\n"
      ],
      "metadata": {
        "id": "IGV1zIcOO_y8"
      },
      "execution_count": 27,
      "outputs": []
    },
    {
      "cell_type": "markdown",
      "source": [
        "Model Validation"
      ],
      "metadata": {
        "id": "wWmz6ZXpoNf0"
      }
    },
    {
      "cell_type": "code",
      "source": [
        "from sklearn.metrics import silhouette_score\n",
        "\n",
        "score = silhouette_score(X_scaled, kmeans.labels_)\n",
        "print(\"Silhouette Score:\", score)\n"
      ],
      "metadata": {
        "colab": {
          "base_uri": "https://localhost:8080/"
        },
        "id": "D7puVBIVO_vb",
        "outputId": "3ab5c6a1-b616-4b14-8278-fc4c2bc69dfb"
      },
      "execution_count": 28,
      "outputs": [
        {
          "output_type": "stream",
          "name": "stdout",
          "text": [
            "Silhouette Score: 0.44597726860944314\n"
          ]
        }
      ]
    },
    {
      "cell_type": "markdown",
      "source": [
        "Final CSV"
      ],
      "metadata": {
        "id": "MwyP1rmD8slD"
      }
    },
    {
      "cell_type": "code",
      "source": [
        "# Final wallet_id and score\n",
        "final_scores = features_df[['wallet_id', 'risk_score']]\n",
        "final_scores.columns = ['wallet_id', 'score']  # rename to match required format\n",
        "\n",
        "# Save to CSV\n",
        "final_scores.to_csv(\"wallet_risk_scores_submission.csv\", index=False)\n"
      ],
      "metadata": {
        "id": "GV9v0nDYO_sq"
      },
      "execution_count": 29,
      "outputs": []
    },
    {
      "cell_type": "code",
      "source": [],
      "metadata": {
        "id": "qxjrlR4eO_id"
      },
      "execution_count": 28,
      "outputs": []
    },
    {
      "cell_type": "code",
      "source": [],
      "metadata": {
        "id": "cAaZxocoO_de"
      },
      "execution_count": 28,
      "outputs": []
    }
  ]
}